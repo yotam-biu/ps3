{
  "nbformat": 4,
  "nbformat_minor": 0,
  "metadata": {
    "colab": {
      "provenance": [],
      "authorship_tag": "ABX9TyMssgmlFwPU6NYHoVeO9Hcg",
      "include_colab_link": true
    },
    "kernelspec": {
      "name": "python3",
      "display_name": "Python 3"
    },
    "language_info": {
      "name": "python"
    }
  },
  "cells": [
    {
      "cell_type": "markdown",
      "metadata": {
        "id": "view-in-github",
        "colab_type": "text"
      },
      "source": [
        "<a href=\"https://colab.research.google.com/github/yotam-biu/ps3/blob/main/leibniz_series_exercise.ipynb\" target=\"_parent\"><img src=\"https://colab.research.google.com/assets/colab-badge.svg\" alt=\"Open In Colab\"/></a>"
      ]
    },
    {
      "cell_type": "markdown",
      "source": [
        "**Problem Set: Approximate π Using the Leibniz Series**\n",
        "\n",
        "The Leibniz series for approximating π is given by the formula:\n",
        "\n",
        "$$\n",
        "\\pi = 4 \\cdot \\left( 1 - \\frac{1}{3} + \\frac{1}{5} - \\frac{1}{7} + \\cdots \\right)\n",
        "$$\n",
        "\n",
        "Each term of the series is of the form:\n",
        "\n",
        "$$\n",
        "\\frac{(-1)^n}{2n+1}\n",
        "$$\n",
        "\n",
        "Where `n` is the index of the term.\n",
        "\n",
        "Write a function called `approximate_pi(n_terms)` that takes an integer `n_terms` as input and return the approximate value of π.\n",
        "\n",
        "\n",
        "Example:\n",
        "For `n_terms = 10`, the function should return an approximation of π based on the first 10 terms of the series.\n",
        "\n",
        "Test your function with different values of `n_terms` to see how the approximation improves as you include more terms.\n"
      ],
      "metadata": {
        "id": "yNAQO36NZfF5"
      }
    },
    {
      "cell_type": "code",
      "source": [
        "def approximate_pi(n_terms):\n",
        "    pass # replace pass with your code"
      ],
      "metadata": {
        "id": "Cqy-R_e3Z4Pj"
      },
      "execution_count": null,
      "outputs": []
    },
    {
      "cell_type": "code",
      "source": [
        "approximate_pi(1000) # should gives ~ 3.14"
      ],
      "metadata": {
        "id": "oEaYlPs5bzpD"
      },
      "execution_count": null,
      "outputs": []
    },
    {
      "cell_type": "markdown",
      "source": [
        "## Step-by-Step Instructions to Build the Approximation Function"
      ],
      "metadata": {
        "id": "2e5AFo0lYcgM"
      }
    },
    {
      "cell_type": "markdown",
      "source": [
        "### Step 1: Understand the List of Numbers\n",
        "\n",
        "Try to understand what the `list_of_numbers` will look like and its length in the following code.\n",
        "\n",
        "Make a guess about the content of the list before running the code.\n",
        "\n",
        "```python\n",
        "n_terms = 10\n",
        "list_of_numbers = []\n",
        "for i in range(n_terms):\n",
        "    list_of_numbers.append(i)\n"
      ],
      "metadata": {
        "id": "M7eVOkJ8TNRM"
      }
    },
    {
      "cell_type": "code",
      "source": [],
      "metadata": {
        "id": "hKknlcoXTOFY"
      },
      "execution_count": null,
      "outputs": []
    },
    {
      "cell_type": "markdown",
      "source": [
        "### Step 2: Create a List of +1, -1 Iterations\n",
        "\n",
        "Using the code structure from Step 1, create a list that alternates between `+1` and `-1` for each iteration. The goal is to reflect the alternating signs in the Leibniz series. The list can be called `list_of_alternating_signs`.\n",
        "\n",
        "For example:\n",
        "\n",
        "For `n_terms = 10`, the list will look like this:\n",
        "\n",
        "```python\n",
        "[1, -1, 1, -1, 1, -1, 1, -1, 1, -1]\n",
        "\n"
      ],
      "metadata": {
        "id": "gLi1f-7hUC01"
      }
    },
    {
      "cell_type": "code",
      "source": [],
      "metadata": {
        "id": "NqI33Yy4VtaL"
      },
      "execution_count": null,
      "outputs": []
    },
    {
      "cell_type": "markdown",
      "source": [
        "### Step 3: Create the Leibniz Series List\n",
        "\n",
        "Now that you've created a list that alternates between `+1` and `-1`, you will use the same concept to build the Leibniz series list:\n",
        "\n",
        "$$\n",
        "\\left[ 1,  - \\frac{1}{3},  \\frac{1}{5}, - \\frac{1}{7},  \\cdots \\right]\n",
        "$$\n",
        "\n",
        "To create the Leibniz list, follow these steps:\n",
        "1. Start with the first term, which is `1`.\n",
        "2. Then, for each subsequent term, divide `1` by an increasing odd number (`3, 5, 7, 9, ...`).\n",
        "3. The sign of each term should alternate, just like in Step 2.\n",
        "\n",
        "The list can be called `leibniz series`\n",
        "\n",
        "For `n_terms = 10`, the list will look like this:\n",
        "\n",
        "```python\n",
        "[1, -1/3, 1/5, -1/7, 1/9, -1/11, 1/13, -1/15, 1/17, -1/19]\n"
      ],
      "metadata": {
        "id": "rxfu8w7tWVTc"
      }
    },
    {
      "cell_type": "code",
      "source": [],
      "metadata": {
        "id": "zAyBktnUWWGl"
      },
      "execution_count": null,
      "outputs": []
    },
    {
      "cell_type": "markdown",
      "source": [
        "### Step 4: Sum the Leibniz Series and Multiply by 4\n",
        "\n",
        "In this step, you will sum the terms of the Leibniz series that you created in Step 3. After that, you will multiply the sum by 4 to approximate the value of π, as per the Leibniz formula:\n",
        "\n",
        "$$\n",
        "\\pi = 4 \\cdot \\left( 1 - \\frac{1}{3} + \\frac{1}{5} - \\frac{1}{7} + \\cdots \\right)\n",
        "$$\n",
        "\n",
        "To complete this step:\n",
        "\n",
        "1. Sum all the terms in the `leibniz_series` list, you can use `sum()` build-in function.\n",
        "2. Multiply the sum by 4 to approximate the value of π.\n",
        "\n",
        "\n"
      ],
      "metadata": {
        "id": "hQGMkdn6XEPl"
      }
    },
    {
      "cell_type": "code",
      "source": [],
      "metadata": {
        "id": "3iNMEckWXRLy"
      },
      "execution_count": null,
      "outputs": []
    },
    {
      "cell_type": "markdown",
      "source": [
        "### Step 5: Wrap the Code into a Function\n",
        "\n",
        "Now that you have created the Leibniz series and approximated π, it's time to wrap everything into a function. The function will take `n_terms` as input and return the approximate value of π.\n",
        "\n",
        "Follow these steps:\n",
        "\n",
        "1. Define a function called `approximate_pi` that takes `n_terms` as an input.\n",
        "2. Inside the function, create the `leibniz_series` list as you did in Step 3, alternating signs and using the correct odd denominators.\n",
        "3. Sum the list of terms.\n",
        "4. Multiply the sum by 4 to approximate π.\n",
        "5. Return the result as the approximation of π.\n",
        "\n",
        "Here’s an example of how the function should look:\n",
        "\n",
        "```python\n",
        "def approximate_pi(n_terms):\n",
        "    pass # replace pass with your code\n"
      ],
      "metadata": {
        "id": "gv0JFRx9X9Us"
      }
    },
    {
      "cell_type": "code",
      "source": [],
      "metadata": {
        "id": "r7LjJnefYGnY"
      },
      "execution_count": null,
      "outputs": []
    },
    {
      "cell_type": "markdown",
      "source": [
        "## Test your code"
      ],
      "metadata": {
        "id": "sjY2a1FNaSsr"
      }
    },
    {
      "cell_type": "code",
      "source": [
        "abs(approximate_pi(1) - 4) < 0.01"
      ],
      "metadata": {
        "id": "2Z4GHYaXaVy5"
      },
      "execution_count": null,
      "outputs": []
    },
    {
      "cell_type": "code",
      "source": [
        "expected_5_terms = 4 * (1 - 1/3 + 1/5 - 1/7 + 1/9)\n",
        "abs(approximate_pi(5) - expected_5_terms) < 0.01"
      ],
      "metadata": {
        "id": "OyUJvxEUa3ax"
      },
      "execution_count": null,
      "outputs": []
    },
    {
      "cell_type": "code",
      "source": [
        "expected_10_terms = 4 * (1 - 1/3 + 1/5 - 1/7 + 1/9 - 1/11 + 1/13 - 1/15 + 1/17 - 1/19)\n",
        "abs(approximate_pi(10) - expected_10_terms) < 0.01"
      ],
      "metadata": {
        "id": "DbB6Vpk_a3Qq"
      },
      "execution_count": null,
      "outputs": []
    }
  ]
}