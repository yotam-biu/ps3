{
  "nbformat": 4,
  "nbformat_minor": 0,
  "metadata": {
    "colab": {
      "provenance": [],
      "authorship_tag": "ABX9TyMrpahYBuRLcIF4BfAjxKhC",
      "include_colab_link": true
    },
    "kernelspec": {
      "name": "python3",
      "display_name": "Python 3"
    },
    "language_info": {
      "name": "python"
    }
  },
  "cells": [
    {
      "cell_type": "markdown",
      "metadata": {
        "id": "view-in-github",
        "colab_type": "text"
      },
      "source": [
        "<a href=\"https://colab.research.google.com/github/yotam-biu/ps3/blob/main/edge_case_exercise.ipynb\" target=\"_parent\"><img src=\"https://colab.research.google.com/assets/colab-badge.svg\" alt=\"Open In Colab\"/></a>"
      ]
    },
    {
      "cell_type": "markdown",
      "source": [
        "**Problem Set: Edge Case**\n",
        "\n",
        "You are given a Python `move()` function that simulates the movement of a pig across a row of positions, represented as a list of zeros with a single `1` indicating the pig's current location. The function `move()` will move the pig (the `1`) one step to the left or to the right, depending on the input direction:\n",
        "\n",
        "For example:  \n",
        "- If the list is `[0, 0, 0, 1, 0]`, the `1` represents the pig's location.  \n",
        "- Calling `move([0, 0, 0, 1, 0], 'right')` will move the pig one step to the right, resulting in `[0, 0, 0, 0, 1]`.  \n",
        "- Calling `move([0, 0, 0, 1, 0], 'left')` will move the pig one step to the left, resulting in `[0, 0, 1, 0, 0]`.  \n",
        "\n",
        "\n",
        "```python\n",
        "def move(my_list, direction):\n",
        "\n",
        "    # Finds the index of the one in the list\n",
        "    index_of_one = my_list.index(1)\n",
        "\n",
        "    # Move the one to the left or to the right\n",
        "    if direction == 'right':\n",
        "        my_list[index_of_one] = 0\n",
        "        my_list[index_of_one + 1] = 1\n",
        "\n",
        "    elif direction == 'left':\n",
        "        my_list[index_of_one] = 0\n",
        "        my_list[index_of_one - 1] = 1\n",
        "\n",
        "    return my_list\n",
        "```\n",
        "\n",
        "However, the function `move()` has a problem with handling the case where the one in the input list is already at the edge of the list, and the direction specified by the user would move it off the edge. This will raise an error.\n",
        "\n",
        "Modify the function to handle this case, such that the function leaves the one in the same position instead of raising an error."
      ],
      "metadata": {
        "id": "xySYUtmkGbkI"
      }
    },
    {
      "cell_type": "code",
      "source": [
        "def move(my_list, direction):\n",
        "  pass # replace the pass with the correct code"
      ],
      "metadata": {
        "id": "-vWZlUYBGcgF"
      },
      "execution_count": null,
      "outputs": []
    },
    {
      "cell_type": "markdown",
      "source": [
        "## Step-by-Step Instructions to Modify the Function:"
      ],
      "metadata": {
        "id": "I535JJxoOe0V"
      }
    },
    {
      "cell_type": "markdown",
      "source": [
        "### Step 1: Test the Function When the `1` Is Not on the Edge\n",
        "\n",
        "In this step, you will test the `move()` function to observe what happens when the `1` is not at the edge of the list.\n",
        "\n",
        "You can use the [Python Tutor](https://pythontutor.com/) website to visualize the code execution step by step and better understand how the list updates during each iteration.\n",
        "\n",
        "Try running the following codes:\n"
      ],
      "metadata": {
        "id": "OTbiTdJ9JlyW"
      }
    },
    {
      "cell_type": "code",
      "source": [
        "def move(my_list, direction=None):\n",
        "    # Finds the index of the one in the list\n",
        "    index_of_one = my_list.index(1)\n",
        "\n",
        "    # Move the one to the left or to the right\n",
        "    if direction == 'right':\n",
        "        my_list[index_of_one] = 0\n",
        "        my_list[index_of_one + 1] = 1\n",
        "    elif direction == 'left':\n",
        "        my_list[index_of_one] = 0\n",
        "        my_list[index_of_one - 1] = 1\n",
        "\n",
        "    return my_list"
      ],
      "metadata": {
        "id": "lvXp_3c8Jokt"
      },
      "execution_count": null,
      "outputs": []
    },
    {
      "cell_type": "code",
      "source": [
        "# Test when the `1` is not at the edge\n",
        "the_pig_location = [0, 0, 0, 1, 0, 0]\n",
        "print(move(the_pig_location, \"right\"))  # Expected output: [0, 0, 0, 0, 1, 0]"
      ],
      "metadata": {
        "id": "FmArNr4GJ2vP"
      },
      "execution_count": null,
      "outputs": []
    },
    {
      "cell_type": "code",
      "source": [
        "# Test when the `1` is not at the edge\n",
        "the_pig_location = [0, 0, 0, 1, 0, 0]\n",
        "print(move(the_pig_location, \"left\"))  # Expected output: [0, 0, 1, 0, 0, 0]"
      ],
      "metadata": {
        "id": "FlWPLgS5J80g"
      },
      "execution_count": null,
      "outputs": []
    },
    {
      "cell_type": "markdown",
      "source": [
        "### Step 2: Test the Function When the `1` Is at the Left Edge\n",
        "\n",
        "In this step, you will test the `move()` function to see what happens when the `1` is already at the left edge of the list and the direction is set to `\"left\"`.\n",
        "\n",
        "\n",
        "Guiding Questions:\n",
        "* Why does the function produce `[0, 0, 0, 0, 1]` instead of the desired `[1, 0, 0, 0, 0]`?\n",
        "* Think about the logic in the function. What happens when the `index_of_one - 1` goes out of bounds? How does Python handle this?\n",
        "* How could you modify the function to prevent this and keep the `1` in place when it reaches the edge?"
      ],
      "metadata": {
        "id": "RULifzZIKRMq"
      }
    },
    {
      "cell_type": "code",
      "source": [
        "# Test when the `1` is at the left edge\n",
        "the_pig_location = [1, 0, 0, 0, 0]\n",
        "print(move(the_pig_location, \"left\"))  # What do you expect will happen?"
      ],
      "metadata": {
        "id": "ypmI0ZYuKCNb"
      },
      "execution_count": null,
      "outputs": []
    },
    {
      "cell_type": "markdown",
      "source": [
        "### Step 3: Test the Function When the `1` Is at the Right Edge\n",
        "\n",
        "In this step, you will test the `move()` function to see what happens when the `1` is already at the right edge of the list and the direction is set to `\"right\"`.\n",
        "\n",
        "Guiding Questions:\n",
        "* Why does the function produce an IndexError in this case?\n",
        "* How does the function handle the `index_of_one + 1` when it goes out of bounds?\n",
        "* How could you modify the function to prevent the error and keep the 1 in place when it reaches the edge?"
      ],
      "metadata": {
        "id": "hiUPhp47MPsn"
      }
    },
    {
      "cell_type": "code",
      "source": [
        "# Test when the `1` is at the right edge\n",
        "the_pig_location = [0, 0, 0, 0, 1]\n",
        "print(move(the_pig_location, \"right\"))  # What do you expect will happen?"
      ],
      "metadata": {
        "id": "UXf9tMmFL97k"
      },
      "execution_count": null,
      "outputs": []
    },
    {
      "cell_type": "markdown",
      "source": [
        "## Test your code"
      ],
      "metadata": {
        "id": "5XVg-fbfOqpE"
      }
    },
    {
      "cell_type": "code",
      "source": [
        "move([0, 1, 0, 0], \"left\") == [1, 0, 0, 0]"
      ],
      "metadata": {
        "id": "-QkjVl3uO_tE"
      },
      "execution_count": null,
      "outputs": []
    },
    {
      "cell_type": "code",
      "source": [
        "move([1, 0, 0, 0], \"left\") == [1, 0, 0, 0]"
      ],
      "metadata": {
        "id": "qTMCfw8bPEo3"
      },
      "execution_count": null,
      "outputs": []
    },
    {
      "cell_type": "code",
      "source": [
        "move([0, 0, 1, 0], \"right\") == [0, 0, 0, 1]"
      ],
      "metadata": {
        "id": "6EUOecnNOwBQ"
      },
      "execution_count": null,
      "outputs": []
    },
    {
      "cell_type": "code",
      "source": [
        "move([0, 0, 0, 1], \"right\") == [0, 0, 0, 1]"
      ],
      "metadata": {
        "id": "lilIJHK-O8HD"
      },
      "execution_count": null,
      "outputs": []
    },
    {
      "cell_type": "code",
      "source": [],
      "metadata": {
        "id": "jnjuUdTbO-Hf"
      },
      "execution_count": null,
      "outputs": []
    }
  ]
}